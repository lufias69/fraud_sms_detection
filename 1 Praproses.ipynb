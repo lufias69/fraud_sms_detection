{
 "cells": [
  {
   "cell_type": "code",
   "execution_count": 1,
   "metadata": {},
   "outputs": [],
   "source": [
    "import pandas as pd\n",
    "from modulku import praproses as pps, StemNstopW as stm\n",
    "from replace import normalisasi as nrm"
   ]
  },
  {
   "cell_type": "code",
   "execution_count": 2,
   "metadata": {
    "scrolled": true
   },
   "outputs": [
    {
     "data": {
      "text/html": [
       "<div>\n",
       "<style scoped>\n",
       "    .dataframe tbody tr th:only-of-type {\n",
       "        vertical-align: middle;\n",
       "    }\n",
       "\n",
       "    .dataframe tbody tr th {\n",
       "        vertical-align: top;\n",
       "    }\n",
       "\n",
       "    .dataframe thead th {\n",
       "        text-align: right;\n",
       "    }\n",
       "</style>\n",
       "<table border=\"1\" class=\"dataframe\">\n",
       "  <thead>\n",
       "    <tr style=\"text-align: right;\">\n",
       "      <th></th>\n",
       "      <th>Unnamed: 0</th>\n",
       "      <th>label</th>\n",
       "      <th>Teks</th>\n",
       "    </tr>\n",
       "  </thead>\n",
       "  <tbody>\n",
       "    <tr>\n",
       "      <th>0</th>\n",
       "      <td>0</td>\n",
       "      <td>fraud</td>\n",
       "      <td>NOMOR !!! Anda Dapat Hadiah Cek Rp.100jt Dari ...</td>\n",
       "    </tr>\n",
       "    <tr>\n",
       "      <th>1</th>\n",
       "      <td>1</td>\n",
       "      <td>promo</td>\n",
       "      <td>RAMADHAN Sale. Disc sd 70% utk produk Reguler ...</td>\n",
       "    </tr>\n",
       "    <tr>\n",
       "      <th>2</th>\n",
       "      <td>2</td>\n",
       "      <td>promo</td>\n",
       "      <td>Selamat! Anda mendapatkan 2 poin dari isi ulan...</td>\n",
       "    </tr>\n",
       "    <tr>\n",
       "      <th>3</th>\n",
       "      <td>3</td>\n",
       "      <td>promo</td>\n",
       "      <td>Selamat, anda berhak mendapatkan kuota interne...</td>\n",
       "    </tr>\n",
       "    <tr>\n",
       "      <th>4</th>\n",
       "      <td>4</td>\n",
       "      <td>fraud</td>\n",
       "      <td>Big S4LE!!! Bul4n suci FAJAR 0Lshop,Dptk4n IPH...</td>\n",
       "    </tr>\n",
       "  </tbody>\n",
       "</table>\n",
       "</div>"
      ],
      "text/plain": [
       "   Unnamed: 0  label                                               Teks\n",
       "0           0  fraud  NOMOR !!! Anda Dapat Hadiah Cek Rp.100jt Dari ...\n",
       "1           1  promo  RAMADHAN Sale. Disc sd 70% utk produk Reguler ...\n",
       "2           2  promo  Selamat! Anda mendapatkan 2 poin dari isi ulan...\n",
       "3           3  promo  Selamat, anda berhak mendapatkan kuota interne...\n",
       "4           4  fraud  Big S4LE!!! Bul4n suci FAJAR 0Lshop,Dptk4n IPH..."
      ]
     },
     "execution_count": 2,
     "metadata": {},
     "output_type": "execute_result"
    }
   ],
   "source": [
    "data = pd.read_excel(\"../dataset_sms_spam _v1.xlsx\")\n",
    "sms = data.Teks.tolist()\n",
    "label = data.label.tolist()\n",
    "data = pd.read_excel(\"../dataset_sms_spam _v2.xlsx\")\n",
    "sms += data.Teks.tolist()\n",
    "data.head()"
   ]
  },
  {
   "cell_type": "code",
   "execution_count": 3,
   "metadata": {},
   "outputs": [],
   "source": [
    "label2 = list()\n",
    "for i in label:\n",
    "    if i == 0:\n",
    "        label2.append(\"normal\")\n",
    "    elif i == 1:\n",
    "        label2.append(\"fraud\")\n",
    "    elif i == 2:\n",
    "        label2.append(\"promo\")\n",
    "    else:\n",
    "        label2.append(\"error\")\n",
    "\n",
    "label2 += data.label.tolist()"
   ]
  },
  {
   "cell_type": "code",
   "execution_count": 4,
   "metadata": {},
   "outputs": [],
   "source": [
    "data_bersih = list()\n",
    "for ix, i in enumerate(sms):\n",
    "    i = pps.preprocessing(i)\n",
    "    i = nrm.normalisasi(i)\n",
    "    i = stm.stemmer_kata(i)\n",
    "#     i = i.replace(' dg ', ' dengan ').replace(' dpt ', ' dapat ').replace(' sama2 ', '').replace(' yg ', ' yang ').replace(' tp ', ' tapi ').replace(' rb', ' ribu ')\n",
    "    i = stm.stop_word(i)\n",
    "#     i = i.replace(\" temen2 \", \" teman \").replace(\" ku \", \"\").replace(\" hmm\", \"\").replace(\"sih \", \"\").replace(\"2 5 \", \"\").replace('001', \"\").replace('0100', \"\").replace('081281108799', \"\").replace('10', \"\").replace('100', \"\").replace('1572', \"\").replace('2011', \"\").replace('2015', \"\").replace('35', \"\").replace('503', \"\").replace('550', \"\").replace('600', \"\").replace('700', \"\").replace('905', \"\").replace('9997175', \"\").replace('30', \"\").replace('400', \"\").replace('4g', \"\").replace('91', \"\")\n",
    "    data_bersih.append(i)\n",
    "    if (ix+1)%100==0:\n",
    "        print(ix+1)\n",
    "    else:\n",
    "        print('.', end='')"
   ]
  },
  {
   "cell_type": "code",
   "execution_count": null,
   "metadata": {},
   "outputs": [],
   "source": [
    "len(label2)"
   ]
  },
  {
   "cell_type": "code",
   "execution_count": 6,
   "metadata": {},
   "outputs": [],
   "source": [
    "dictt = {\n",
    "#     'kode':label,\n",
    "    'label':label2,\n",
    "    'sms':data_bersih,  \n",
    "}\n",
    "df = pd.DataFrame.from_dict(dictt)\n",
    "df.to_excel('sms_clean_norm_+_new_data.xlsx')"
   ]
  }
 ],
 "metadata": {
  "kernelspec": {
   "display_name": "Python 3",
   "language": "python",
   "name": "python3"
  },
  "language_info": {
   "codemirror_mode": {
    "name": "ipython",
    "version": 3
   },
   "file_extension": ".py",
   "mimetype": "text/x-python",
   "name": "python",
   "nbconvert_exporter": "python",
   "pygments_lexer": "ipython3",
   "version": "3.7.3"
  }
 },
 "nbformat": 4,
 "nbformat_minor": 2
}
