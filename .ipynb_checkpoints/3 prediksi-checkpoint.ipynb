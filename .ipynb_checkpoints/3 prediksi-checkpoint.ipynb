{
 "cells": [
  {
   "cell_type": "code",
   "execution_count": 1,
   "metadata": {},
   "outputs": [],
   "source": [
    "from modulku import praproses as pps, StemNstopW as stm\n",
    "from joblib import load\n",
    "from replace import normalisasi as nrm\n",
    "import pandas as pd"
   ]
  },
  {
   "cell_type": "code",
   "execution_count": 2,
   "metadata": {},
   "outputs": [],
   "source": [
    "#load Model yang sudah dibuat\n",
    "tfidf = load('model/tfidf.w')\n",
    "mnb = load('model/mnb.m')"
   ]
  },
  {
   "cell_type": "code",
   "execution_count": 3,
   "metadata": {},
   "outputs": [],
   "source": [
    "sms = \"Isi saldo TCASHmu  melalui jaringan ATM Bersama & ATM BCA! Lakukan transfer antar bank, Pilih bank TCASH (Kode bank 911). Gunakan No HP sbg no rekening tujuan.\""
   ]
  },
  {
   "cell_type": "code",
   "execution_count": 4,
   "metadata": {},
   "outputs": [],
   "source": [
    "#praproses\n",
    "def praproses(sms):\n",
    "    sms = pps.preprocessing(sms)\n",
    "    sms = nrm.normalisasi(sms)\n",
    "    sms = stm.stemmer_kata(sms)\n",
    "    # sms = stm.stop_word(sms)\n",
    "    return sms"
   ]
  },
  {
   "cell_type": "code",
   "execution_count": 5,
   "metadata": {},
   "outputs": [
    {
     "data": {
      "text/html": [
       "<div>\n",
       "<style scoped>\n",
       "    .dataframe tbody tr th:only-of-type {\n",
       "        vertical-align: middle;\n",
       "    }\n",
       "\n",
       "    .dataframe tbody tr th {\n",
       "        vertical-align: top;\n",
       "    }\n",
       "\n",
       "    .dataframe thead th {\n",
       "        text-align: right;\n",
       "    }\n",
       "</style>\n",
       "<table border=\"1\" class=\"dataframe\">\n",
       "  <thead>\n",
       "    <tr style=\"text-align: right;\">\n",
       "      <th></th>\n",
       "      <th>Unnamed: 0</th>\n",
       "      <th>sms</th>\n",
       "    </tr>\n",
       "  </thead>\n",
       "  <tbody>\n",
       "    <tr>\n",
       "      <th>0</th>\n",
       "      <td>0</td>\n",
       "      <td>NOMOR !!! Anda Dapat Hadiah Cek Rp.100jt Dari ...</td>\n",
       "    </tr>\n",
       "    <tr>\n",
       "      <th>1</th>\n",
       "      <td>1</td>\n",
       "      <td>RAMADHAN Sale. Disc sd 70% utk produk Reguler ...</td>\n",
       "    </tr>\n",
       "    <tr>\n",
       "      <th>2</th>\n",
       "      <td>2</td>\n",
       "      <td>Selamat! Anda mendapatkan 2 poin dari isi ulan...</td>\n",
       "    </tr>\n",
       "    <tr>\n",
       "      <th>3</th>\n",
       "      <td>3</td>\n",
       "      <td>Selamat, anda berhak mendapatkan kuota interne...</td>\n",
       "    </tr>\n",
       "    <tr>\n",
       "      <th>4</th>\n",
       "      <td>4</td>\n",
       "      <td>Big S4LE!!! Bul4n suci FAJAR 0Lshop,Dptk4n IPH...</td>\n",
       "    </tr>\n",
       "  </tbody>\n",
       "</table>\n",
       "</div>"
      ],
      "text/plain": [
       "   Unnamed: 0                                                sms\n",
       "0           0  NOMOR !!! Anda Dapat Hadiah Cek Rp.100jt Dari ...\n",
       "1           1  RAMADHAN Sale. Disc sd 70% utk produk Reguler ...\n",
       "2           2  Selamat! Anda mendapatkan 2 poin dari isi ulan...\n",
       "3           3  Selamat, anda berhak mendapatkan kuota interne...\n",
       "4           4  Big S4LE!!! Bul4n suci FAJAR 0Lshop,Dptk4n IPH..."
      ]
     },
     "execution_count": 5,
     "metadata": {},
     "output_type": "execute_result"
    }
   ],
   "source": [
    "data = pd.read_excel(\"../sms baru/new_sms.xlsx\")\n",
    "sms_list = data.sms.tolist()\n",
    "data.head()"
   ]
  },
  {
   "cell_type": "code",
   "execution_count": null,
   "metadata": {},
   "outputs": [],
   "source": [
    "#prediksi\n",
    "prediksi = list()\n",
    "for sms in sms_list:\n",
    "    sms = praproses(sms)\n",
    "    w = tfidf.transform([sms])\n",
    "    hasil = mnb.predict(w)[0]\n",
    "    prediksi.append(hasil)"
   ]
  },
  {
   "cell_type": "code",
   "execution_count": null,
   "metadata": {},
   "outputs": [],
   "source": [
    "dict_ = {\n",
    "    \"prediksi\":prediksi,\n",
    "    'sms':sms_list,\n",
    "    \n",
    "}\n",
    "df = pd.DataFrame.from_dict(dict_)\n",
    "df"
   ]
  },
  {
   "cell_type": "code",
   "execution_count": null,
   "metadata": {},
   "outputs": [],
   "source": [
    "df.to_excel(\"hasil prediksi/hasil_prediksi_2.xlsx\")"
   ]
  },
  {
   "cell_type": "code",
   "execution_count": null,
   "metadata": {},
   "outputs": [],
   "source": []
  }
 ],
 "metadata": {
  "kernelspec": {
   "display_name": "Python 3",
   "language": "python",
   "name": "python3"
  },
  "language_info": {
   "codemirror_mode": {
    "name": "ipython",
    "version": 3
   },
   "file_extension": ".py",
   "mimetype": "text/x-python",
   "name": "python",
   "nbconvert_exporter": "python",
   "pygments_lexer": "ipython3",
   "version": "3.7.3"
  }
 },
 "nbformat": 4,
 "nbformat_minor": 2
}
